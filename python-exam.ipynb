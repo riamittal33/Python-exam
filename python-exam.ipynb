{
 "cells": [
  {
   "cell_type": "markdown",
   "metadata": {},
   "source": [
    "### python practical\n",
    "name - ria mittal\n",
    "class - cse4a\n",
    "rollNo. - 2K18CSUN01076"
   ]
  },
  {
   "cell_type": "markdown",
   "metadata": {},
   "source": [
    "### set c\n"
   ]
  },
  {
   "cell_type": "markdown",
   "metadata": {},
   "source": [
    "### ques -1"
   ]
  },
  {
   "cell_type": "code",
   "execution_count": 4,
   "metadata": {},
   "outputs": [
    {
     "name": "stdout",
     "output_type": "stream",
     "text": [
      "Enter Value 1:- 1\n",
      "Enter Value 2:- 1\n",
      "Enter Value 3:- 2\n",
      "result is : \n",
      "1.0\n"
     ]
    }
   ],
   "source": [
    "import math\n",
    "value1 = int(input(\"Enter Value 1:- \"))\n",
    "value2 = int(input(\"Enter Value 2:- \"))\n",
    "value3 = int(input(\"Enter Value 3:- \"))\n",
    "n = (2*value1*value2)/value3\n",
    "result = math.sqrt(n)\n",
    "print(\"result is : \" )\n",
    "print(result)"
   ]
  },
  {
   "cell_type": "markdown",
   "metadata": {},
   "source": [
    "### ques - 2\n"
   ]
  },
  {
   "cell_type": "code",
   "execution_count": 6,
   "metadata": {},
   "outputs": [
    {
     "name": "stdout",
     "output_type": "stream",
     "text": [
      "Enter any string:- hello\n",
      "h\n",
      "l\n",
      "o\n"
     ]
    }
   ],
   "source": [
    "str = input(\"Enter any string:- \")\n",
    "lengthOfStr = len(str)\n",
    "for x in range(0,lengthOfStr):\n",
    "    if (x%2==0):\n",
    "        print(str[x])"
   ]
  },
  {
   "cell_type": "markdown",
   "metadata": {},
   "source": [
    "## Theoretical Questions"
   ]
  },
  {
   "cell_type": "markdown",
   "metadata": {},
   "source": [
    "### ques -1)\n",
    "we can call constructor of base class using super() class"
   ]
  },
  {
   "cell_type": "markdown",
   "metadata": {},
   "source": [
    "### ques-2)"
   ]
  },
  {
   "cell_type": "markdown",
   "metadata": {},
   "source": [
    "class parent:\n",
    "pass\n",
    "class child(parent)\n",
    "pass\n",
    "\n",
    "here child class inherit properties and behaviour from parent class"
   ]
  },
  {
   "cell_type": "markdown",
   "metadata": {},
   "source": [
    "### ques-3)"
   ]
  },
  {
   "cell_type": "code",
   "execution_count": 10,
   "metadata": {},
   "outputs": [
    {
     "name": "stdout",
     "output_type": "stream",
     "text": [
      "{'stud1': {'name': 'ria', 'age': 20}, 'stud2': {'name': 'neyhal', 'age': 19}, 'stud3': {'name': 'vanshika', 'age': 20}}\n"
     ]
    }
   ],
   "source": [
    "studentDetails = {\n",
    "  \"stud1\" : {\n",
    "    \"name\" : \"ria\",\n",
    "    \"age\" : 20 ,\n",
    "  },\n",
    "  \"stud2\" : {\n",
    "    \"name\" : \"neyhal\",\n",
    "    \"age\" : 19\n",
    "  },\n",
    "  \"stud3\" : {\n",
    "    \"name\" : \"vanshika\",\n",
    "    \"age\" : 20\n",
    "  }\n",
    "}\n",
    "\n",
    "print(studentDetails)\n"
   ]
  },
  {
   "cell_type": "code",
   "execution_count": null,
   "metadata": {},
   "outputs": [],
   "source": []
  }
 ],
 "metadata": {
  "kernelspec": {
   "display_name": "Python 3",
   "language": "python",
   "name": "python3"
  },
  "language_info": {
   "codemirror_mode": {
    "name": "ipython",
    "version": 3
   },
   "file_extension": ".py",
   "mimetype": "text/x-python",
   "name": "python",
   "nbconvert_exporter": "python",
   "pygments_lexer": "ipython3",
   "version": "3.7.4"
  }
 },
 "nbformat": 4,
 "nbformat_minor": 2
}
